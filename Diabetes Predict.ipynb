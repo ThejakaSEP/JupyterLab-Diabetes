{
 "cells": [
  {
   "cell_type": "code",
   "execution_count": null,
   "id": "507f7653",
   "metadata": {},
   "outputs": [],
   "source": [
    "pip install numpy pandas matplotlib"
   ]
  },
  {
   "cell_type": "code",
   "execution_count": null,
   "id": "b113f0a8",
   "metadata": {},
   "outputs": [],
   "source": [
    "pip install seaborn scipy warnings"
   ]
  },
  {
   "cell_type": "code",
   "execution_count": null,
   "id": "8442144b",
   "metadata": {},
   "outputs": [],
   "source": [
    "pip install streamlit"
   ]
  },
  {
   "cell_type": "code",
   "execution_count": 6,
   "id": "0575ea89",
   "metadata": {},
   "outputs": [
    {
     "name": "stdout",
     "output_type": "stream",
     "text": [
      "Collecting sklearn\n",
      "  Using cached sklearn-0.0.tar.gz (1.1 kB)\n",
      "Collecting scikit-learn\n",
      "  Using cached scikit_learn-0.24.2-cp39-cp39-macosx_10_13_x86_64.whl (7.3 MB)\n",
      "Requirement already satisfied: numpy>=1.13.3 in /Library/Frameworks/Python.framework/Versions/3.9/lib/python3.9/site-packages (from scikit-learn->sklearn) (1.20.2)\n",
      "Requirement already satisfied: scipy>=0.19.1 in /Library/Frameworks/Python.framework/Versions/3.9/lib/python3.9/site-packages (from scikit-learn->sklearn) (1.6.3)\n",
      "Collecting joblib>=0.11\n",
      "  Using cached joblib-1.0.1-py3-none-any.whl (303 kB)\n",
      "Collecting threadpoolctl>=2.0.0\n",
      "  Using cached threadpoolctl-2.1.0-py3-none-any.whl (12 kB)\n",
      "Using legacy 'setup.py install' for sklearn, since package 'wheel' is not installed.\n",
      "Installing collected packages: joblib, threadpoolctl, scikit-learn, sklearn\n",
      "    Running setup.py install for sklearn ... \u001b[?25ldone\n",
      "\u001b[?25hSuccessfully installed joblib-1.0.1 scikit-learn-0.24.2 sklearn-0.0 threadpoolctl-2.1.0\n",
      "\u001b[33mWARNING: You are using pip version 20.2.3; however, version 21.1.1 is available.\n",
      "You should consider upgrading via the '/Library/Frameworks/Python.framework/Versions/3.9/bin/python3.9 -m pip install --upgrade pip' command.\u001b[0m\n",
      "Note: you may need to restart the kernel to use updated packages.\n"
     ]
    }
   ],
   "source": [
    "pip install sklearn"
   ]
  },
  {
   "cell_type": "code",
   "execution_count": 72,
   "id": "f4666eb9",
   "metadata": {},
   "outputs": [],
   "source": [
    "import numpy as np\n",
    "import pandas as pd\n",
    "\n",
    "from sklearn.model_selection import StratifiedKFold\n",
    "from sklearn.model_selection import cross_val_score\n",
    "\n",
    "\n",
    "#For Plotting\n",
    "import matplotlib.pyplot as plt\n",
    "import seaborn as sns\n",
    "from pandas.plotting import scatter_matrix \n",
    "from scipy.stats import gaussian_kde\n",
    "\n",
    "\n",
    "#For Machine Learning Algorithms\n",
    "from sklearn.ensemble import RandomForestClassifier\n",
    "from sklearn.model_selection import train_test_split\n",
    "from sklearn.metrics import accuracy_score\n",
    "\n",
    "from sklearn.linear_model import LogisticRegression\n",
    "from sklearn.tree import DecisionTreeClassifier\n",
    "from sklearn.neighbors import KNeighborsClassifier\n",
    "from sklearn.discriminant_analysis import LinearDiscriminantAnalysis\n",
    "from sklearn.naive_bayes import GaussianNB\n",
    "from sklearn.svm import SVC\n"
   ]
  },
  {
   "cell_type": "code",
   "execution_count": 9,
   "id": "c4f06369",
   "metadata": {},
   "outputs": [],
   "source": [
    "df = pd.read_csv('/Users/thejakamahaulpatha/PycharmProjects/Diabetese/Datasets/diabetes.csv')"
   ]
  },
  {
   "cell_type": "code",
   "execution_count": null,
   "id": "f9614595",
   "metadata": {},
   "outputs": [],
   "source": [
    "######### Descriptive Analysis #########"
   ]
  },
  {
   "cell_type": "code",
   "execution_count": null,
   "id": "4e75a1b9",
   "metadata": {},
   "outputs": [],
   "source": [
    "df.shape"
   ]
  },
  {
   "cell_type": "code",
   "execution_count": null,
   "id": "92ef876f",
   "metadata": {},
   "outputs": [],
   "source": [
    "df.columns"
   ]
  },
  {
   "cell_type": "code",
   "execution_count": null,
   "id": "41b550d4",
   "metadata": {},
   "outputs": [],
   "source": [
    "df.dtypes"
   ]
  },
  {
   "cell_type": "code",
   "execution_count": 37,
   "id": "6c7b86b1",
   "metadata": {},
   "outputs": [
    {
     "data": {
      "text/html": [
       "<div>\n",
       "<style scoped>\n",
       "    .dataframe tbody tr th:only-of-type {\n",
       "        vertical-align: middle;\n",
       "    }\n",
       "\n",
       "    .dataframe tbody tr th {\n",
       "        vertical-align: top;\n",
       "    }\n",
       "\n",
       "    .dataframe thead th {\n",
       "        text-align: right;\n",
       "    }\n",
       "</style>\n",
       "<table border=\"1\" class=\"dataframe\">\n",
       "  <thead>\n",
       "    <tr style=\"text-align: right;\">\n",
       "      <th></th>\n",
       "      <th>Pregnancies</th>\n",
       "      <th>Glucose</th>\n",
       "      <th>BloodPressure</th>\n",
       "      <th>SkinThickness</th>\n",
       "      <th>Insulin</th>\n",
       "      <th>BMI</th>\n",
       "      <th>DiabetesPedigreeFunction</th>\n",
       "      <th>Age</th>\n",
       "      <th>Outcome</th>\n",
       "    </tr>\n",
       "  </thead>\n",
       "  <tbody>\n",
       "    <tr>\n",
       "      <th>0</th>\n",
       "      <td>2</td>\n",
       "      <td>138</td>\n",
       "      <td>62</td>\n",
       "      <td>35</td>\n",
       "      <td>0</td>\n",
       "      <td>33.6</td>\n",
       "      <td>0.127</td>\n",
       "      <td>47</td>\n",
       "      <td>1</td>\n",
       "    </tr>\n",
       "    <tr>\n",
       "      <th>1</th>\n",
       "      <td>0</td>\n",
       "      <td>84</td>\n",
       "      <td>82</td>\n",
       "      <td>31</td>\n",
       "      <td>125</td>\n",
       "      <td>38.2</td>\n",
       "      <td>0.233</td>\n",
       "      <td>23</td>\n",
       "      <td>0</td>\n",
       "    </tr>\n",
       "    <tr>\n",
       "      <th>2</th>\n",
       "      <td>0</td>\n",
       "      <td>145</td>\n",
       "      <td>0</td>\n",
       "      <td>0</td>\n",
       "      <td>0</td>\n",
       "      <td>44.2</td>\n",
       "      <td>0.630</td>\n",
       "      <td>31</td>\n",
       "      <td>1</td>\n",
       "    </tr>\n",
       "    <tr>\n",
       "      <th>3</th>\n",
       "      <td>0</td>\n",
       "      <td>135</td>\n",
       "      <td>68</td>\n",
       "      <td>42</td>\n",
       "      <td>250</td>\n",
       "      <td>42.3</td>\n",
       "      <td>0.365</td>\n",
       "      <td>24</td>\n",
       "      <td>1</td>\n",
       "    </tr>\n",
       "    <tr>\n",
       "      <th>4</th>\n",
       "      <td>1</td>\n",
       "      <td>139</td>\n",
       "      <td>62</td>\n",
       "      <td>41</td>\n",
       "      <td>480</td>\n",
       "      <td>40.7</td>\n",
       "      <td>0.536</td>\n",
       "      <td>21</td>\n",
       "      <td>0</td>\n",
       "    </tr>\n",
       "  </tbody>\n",
       "</table>\n",
       "</div>"
      ],
      "text/plain": [
       "   Pregnancies  Glucose  BloodPressure  SkinThickness  Insulin   BMI  \\\n",
       "0            2      138             62             35        0  33.6   \n",
       "1            0       84             82             31      125  38.2   \n",
       "2            0      145              0              0        0  44.2   \n",
       "3            0      135             68             42      250  42.3   \n",
       "4            1      139             62             41      480  40.7   \n",
       "\n",
       "   DiabetesPedigreeFunction  Age  Outcome  \n",
       "0                     0.127   47        1  \n",
       "1                     0.233   23        0  \n",
       "2                     0.630   31        1  \n",
       "3                     0.365   24        1  \n",
       "4                     0.536   21        0  "
      ]
     },
     "execution_count": 37,
     "metadata": {},
     "output_type": "execute_result"
    }
   ],
   "source": [
    "df.head(5)"
   ]
  },
  {
   "cell_type": "code",
   "execution_count": null,
   "id": "3a2d1711",
   "metadata": {},
   "outputs": [],
   "source": [
    "df.Pregnancies.unique()"
   ]
  },
  {
   "cell_type": "code",
   "execution_count": null,
   "id": "c8c99d61",
   "metadata": {},
   "outputs": [],
   "source": [
    "df.describe()"
   ]
  },
  {
   "cell_type": "code",
   "execution_count": null,
   "id": "8487f0a9",
   "metadata": {},
   "outputs": [],
   "source": []
  },
  {
   "cell_type": "code",
   "execution_count": null,
   "id": "1c03f2de",
   "metadata": {},
   "outputs": [],
   "source": [
    "######### Descriptive Analysis with plotting #########"
   ]
  },
  {
   "cell_type": "code",
   "execution_count": null,
   "id": "301f9db8",
   "metadata": {},
   "outputs": [],
   "source": [
    "######### 1. Histrograms"
   ]
  },
  {
   "cell_type": "code",
   "execution_count": null,
   "id": "e513eb30",
   "metadata": {
    "scrolled": true
   },
   "outputs": [],
   "source": [
    "fig, ax = plt.subplots(9,figsize=(15,30))\n",
    "fig.patch.set_facecolor('#f6f5f7')\n",
    "# ax.set_facecolor('#f6f5f5')\n",
    "\n",
    "for i in range(9):\n",
    "    df.hist(column=df.columns[i],bins=12, ax=ax[i], alpha=0.5, color='red')"
   ]
  },
  {
   "cell_type": "code",
   "execution_count": null,
   "id": "e75665aa",
   "metadata": {},
   "outputs": [],
   "source": [
    "######### Another way of showing the histrograms "
   ]
  },
  {
   "cell_type": "code",
   "execution_count": null,
   "id": "eb6df60d",
   "metadata": {
    "scrolled": true
   },
   "outputs": [],
   "source": [
    "numbers = pd.Series(df.columns)\n",
    "df[numbers].hist(figsize = (14, 14))\n",
    "plt.show();"
   ]
  },
  {
   "cell_type": "code",
   "execution_count": null,
   "id": "644aa46f",
   "metadata": {},
   "outputs": [],
   "source": [
    "######### 2. Boxplots"
   ]
  },
  {
   "cell_type": "code",
   "execution_count": null,
   "id": "a080f64d",
   "metadata": {
    "scrolled": true
   },
   "outputs": [],
   "source": [
    "df.plot(kind = 'box', subplots = True, layout = (3, 3), sharex = False, sharey = False, figsize = (12, 12));"
   ]
  },
  {
   "cell_type": "code",
   "execution_count": null,
   "id": "c9cb8e37",
   "metadata": {},
   "outputs": [],
   "source": [
    "######### 3. Density Plots"
   ]
  },
  {
   "cell_type": "code",
   "execution_count": null,
   "id": "4da30c0c",
   "metadata": {
    "scrolled": true
   },
   "outputs": [],
   "source": [
    "df.plot(kind = 'density', subplots = True, layout = (3, 3), sharex = False, sharey = False, figsize = (12, 12));"
   ]
  },
  {
   "cell_type": "code",
   "execution_count": null,
   "id": "de96e087",
   "metadata": {},
   "outputs": [],
   "source": [
    "######### 4. Scatter Matrix and Scatter Plots"
   ]
  },
  {
   "cell_type": "code",
   "execution_count": null,
   "id": "4a27d50c",
   "metadata": {
    "scrolled": true
   },
   "outputs": [],
   "source": [
    "scatter_matrix(df, alpha = 0.2, figsize = (50, 50))       "
   ]
  },
  {
   "cell_type": "code",
   "execution_count": null,
   "id": "62ac5369",
   "metadata": {},
   "outputs": [],
   "source": [
    "######### A better way to do the same"
   ]
  },
  {
   "cell_type": "code",
   "execution_count": null,
   "id": "46109ccf",
   "metadata": {},
   "outputs": [],
   "source": [
    "sns.pairplot(df, hue = \"Outcome\");"
   ]
  },
  {
   "cell_type": "code",
   "execution_count": null,
   "id": "98e54368",
   "metadata": {},
   "outputs": [],
   "source": [
    "x = df['SkinThickness']\n",
    "y = df['Outcome']\n",
    "\n",
    "xy = np.vstack([x,y])\n",
    "z = gaussian_kde(xy)(xy)\n",
    "\n",
    "plt.scatter(x, y, c=z, s=100)\n",
    "plt.show()"
   ]
  },
  {
   "cell_type": "code",
   "execution_count": null,
   "id": "4519e838",
   "metadata": {},
   "outputs": [],
   "source": [
    "g = sns.FacetGrid(df, col = 'Outcome')\n",
    "g.map(sns.scatterplot, 'SkinThickness','Outcome')"
   ]
  },
  {
   "cell_type": "code",
   "execution_count": null,
   "id": "91f6cdf4",
   "metadata": {},
   "outputs": [],
   "source": [
    "#Comparing the means of SkinThickness based on Outcome \n",
    "\n",
    "a = df[(df[\"Outcome\"] == 0)]\n",
    "b = df[(df[\"Outcome\"] == 1)]\n",
    "\n",
    "print(a['SkinThickness'].mean(),b['SkinThickness'].mean())\n",
    "\n",
    "\n",
    "# We can see that the mean of Skinthickness where the Outcome is 1 has a greater value. "
   ]
  },
  {
   "cell_type": "code",
   "execution_count": null,
   "id": "9d6baa8b",
   "metadata": {},
   "outputs": [],
   "source": [
    "#Checking how many null values are in the SkinThickness column. \n",
    "\n",
    "df.SkinThickness.count()\n",
    "\n",
    "c = df[df['SkinThickness']==0]\n",
    "count  = c.SkinThickness.count()\n",
    "\n",
    "avg_skinThickness = count / df.SkinThickness.count()\n",
    "\n",
    "print(avg_skinThickness*100)\n"
   ]
  },
  {
   "cell_type": "code",
   "execution_count": null,
   "id": "ecf6cf23",
   "metadata": {},
   "outputs": [],
   "source": [
    "#Comparing the means of SkinThickness based on Outcome but excluding '0' in Skinthickness as there are 28% values of 0s \n",
    "\n",
    "a = df[(df[\"Outcome\"] == 0) & (df[\"SkinThickness\"] > 0)]\n",
    "b = df[(df[\"Outcome\"] == 1) & (df[\"SkinThickness\"] > 0)]\n",
    "\n",
    "print(a['SkinThickness'].mean(),b['SkinThickness'].mean())\n"
   ]
  },
  {
   "cell_type": "code",
   "execution_count": null,
   "id": "cd006886",
   "metadata": {},
   "outputs": [],
   "source": [
    "n = df[df[\"SkinThickness\"]>0]\n",
    "\n",
    "g = sns.FacetGrid(n, col = 'Outcome')\n",
    "g.map(sns.scatterplot, 'SkinThickness','Outcome')\n"
   ]
  },
  {
   "cell_type": "code",
   "execution_count": null,
   "id": "98e2c3e6",
   "metadata": {},
   "outputs": [],
   "source": [
    "######### 5. Heatmaps"
   ]
  },
  {
   "cell_type": "code",
   "execution_count": null,
   "id": "2af4975f",
   "metadata": {},
   "outputs": [],
   "source": [
    "# See the correlation of the variables using a Heatmap\n",
    "corr = df.corr()\n",
    "f, ax = plt.subplots(figsize = (20, 9))\n",
    "sns.heatmap(corr, vmax = 1, annot = True);"
   ]
  },
  {
   "cell_type": "code",
   "execution_count": null,
   "id": "1c7e5d19",
   "metadata": {},
   "outputs": [],
   "source": [
    "######### Implementing Machine Learning Model\n",
    "# We will use a RandomForestClassification"
   ]
  },
  {
   "cell_type": "code",
   "execution_count": 64,
   "id": "f66a2725",
   "metadata": {},
   "outputs": [],
   "source": [
    "# 1. Let's split the data\n",
    "\n",
    "x = df.iloc[:,0:8].values\n",
    "y = df.iloc[:,-1].values\n",
    "\n",
    "x_train,x_test,y_train,y_test = train_test_split(x,y,test_size=0.25,random_state=1) "
   ]
  },
  {
   "cell_type": "code",
   "execution_count": 65,
   "id": "caa554f1",
   "metadata": {},
   "outputs": [
    {
     "data": {
      "text/plain": [
       "RandomForestClassifier()"
      ]
     },
     "execution_count": 65,
     "metadata": {},
     "output_type": "execute_result"
    }
   ],
   "source": [
    "#2. Fitting the date to the model\n",
    "\n",
    "rfc = RandomForestClassifier()\n",
    "rfc.fit(x_train,y_train)"
   ]
  },
  {
   "cell_type": "code",
   "execution_count": 66,
   "id": "b9416197",
   "metadata": {},
   "outputs": [
    {
     "data": {
      "text/plain": [
       "97"
      ]
     },
     "execution_count": 66,
     "metadata": {},
     "output_type": "execute_result"
    }
   ],
   "source": [
    "# Predicting on the test data to see the accuracy of the mode\n",
    "\n",
    "round(float(accuracy_score(y_test,rfc.predict(x_test)))*100)"
   ]
  },
  {
   "cell_type": "code",
   "execution_count": null,
   "id": "a0b96795",
   "metadata": {},
   "outputs": [],
   "source": [
    "######### Let's test some more Algorithms "
   ]
  },
  {
   "cell_type": "code",
   "execution_count": 74,
   "id": "0a43141e",
   "metadata": {},
   "outputs": [],
   "source": [
    "#Creating a list with the models\n",
    "models = []\n",
    "models.append(('LR',LogisticRegression(solver='liblinear',multi_class='ovr')))\n",
    "models.append(('LDA',LinearDiscriminantAnalysis()))\n",
    "models.append(('KNN',KNeighborsClassifier()))\n",
    "models.append(('CART',DecisionTreeClassifier()))\n",
    "models.append(('NB',GaussianNB()))\n",
    "models.append(('RFC',RandomForestClassifier()))\n",
    "models.append(('SVM',SVC(gamma='auto')))"
   ]
  },
  {
   "cell_type": "code",
   "execution_count": 79,
   "id": "5c843dcb",
   "metadata": {},
   "outputs": [
    {
     "name": "stdout",
     "output_type": "stream",
     "text": [
      "LR: 0.774000 (0.014742)\n",
      "LDA: 0.774000 (0.020753)\n",
      "KNN: 0.776000 (0.033625)\n",
      "CART: 0.954667 (0.025785)\n",
      "NB: 0.756000 (0.031156)\n",
      "RFC: 0.960667 (0.016452)\n",
      "SVM: 0.944667 (0.017651)\n"
     ]
    }
   ],
   "source": [
    "# Evaluate each model in turn\n",
    "results = []\n",
    "names = []\n",
    "\n",
    "for name,model in models:\n",
    "    kfold = StratifiedKFold(n_splits=10,random_state=1,shuffle=True)\n",
    "    cv_results = cross_val_score(model,x_train,y_train,cv=kfold,scoring='accuracy')\n",
    "#     print(cv_results)\n",
    "    results.append(cv_results)\n",
    "    names.append(name)\n",
    "    print('%s: %f (%f)'%(name,cv_results.mean(),cv_results.std()))\n"
   ]
  },
  {
   "cell_type": "code",
   "execution_count": null,
   "id": "8bee2e6c",
   "metadata": {},
   "outputs": [],
   "source": []
  },
  {
   "cell_type": "code",
   "execution_count": null,
   "id": "55711cbb",
   "metadata": {},
   "outputs": [],
   "source": []
  }
 ],
 "metadata": {
  "kernelspec": {
   "display_name": "Python 3",
   "language": "python",
   "name": "python3"
  },
  "language_info": {
   "codemirror_mode": {
    "name": "ipython",
    "version": 3
   },
   "file_extension": ".py",
   "mimetype": "text/x-python",
   "name": "python",
   "nbconvert_exporter": "python",
   "pygments_lexer": "ipython3",
   "version": "3.9.4"
  }
 },
 "nbformat": 4,
 "nbformat_minor": 5
}
